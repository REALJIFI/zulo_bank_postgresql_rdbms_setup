{
 "cells": [
  {
   "cell_type": "code",
   "execution_count": 46,
   "metadata": {},
   "outputs": [],
   "source": [
    "# importing necessary dependencies\n",
    "import pandas as pd\n",
    "from datetime import datetime, timedelta"
   ]
  },
  {
   "cell_type": "code",
   "execution_count": 47,
   "metadata": {},
   "outputs": [],
   "source": [
    "# Reading the dataset into  dataframe\n",
    "zulo_bank = pd.read_csv('zulo_bank.csv')"
   ]
  },
  {
   "cell_type": "code",
   "execution_count": 48,
   "metadata": {},
   "outputs": [
    {
     "data": {
      "text/html": [
       "<div>\n",
       "<style scoped>\n",
       "    .dataframe tbody tr th:only-of-type {\n",
       "        vertical-align: middle;\n",
       "    }\n",
       "\n",
       "    .dataframe tbody tr th {\n",
       "        vertical-align: top;\n",
       "    }\n",
       "\n",
       "    .dataframe thead th {\n",
       "        text-align: right;\n",
       "    }\n",
       "</style>\n",
       "<table border=\"1\" class=\"dataframe\">\n",
       "  <thead>\n",
       "    <tr style=\"text-align: right;\">\n",
       "      <th></th>\n",
       "      <th>FullName</th>\n",
       "      <th>Email</th>\n",
       "      <th>Phone</th>\n",
       "      <th>TransactionType</th>\n",
       "      <th>Amount</th>\n",
       "      <th>TransactionDate</th>\n",
       "      <th>AccountType</th>\n",
       "      <th>Balance</th>\n",
       "      <th>OpeningDate</th>\n",
       "      <th>LoanAmount</th>\n",
       "      <th>LoanType</th>\n",
       "      <th>StartDate</th>\n",
       "      <th>EndDate</th>\n",
       "      <th>InterestRate</th>\n",
       "    </tr>\n",
       "  </thead>\n",
       "  <tbody>\n",
       "    <tr>\n",
       "      <th>0</th>\n",
       "      <td>Carol Miller</td>\n",
       "      <td>yfisher@example.org</td>\n",
       "      <td>6088279027</td>\n",
       "      <td>withdrawal</td>\n",
       "      <td>102.15</td>\n",
       "      <td>2023-04-26</td>\n",
       "      <td>Savings</td>\n",
       "      <td>5652.16</td>\n",
       "      <td>2019-08-12</td>\n",
       "      <td>NaN</td>\n",
       "      <td>NaN</td>\n",
       "      <td>NaN</td>\n",
       "      <td>NaN</td>\n",
       "      <td>NaN</td>\n",
       "    </tr>\n",
       "    <tr>\n",
       "      <th>1</th>\n",
       "      <td>Geoffrey Banks</td>\n",
       "      <td>gonzalesgeorge@example.net</td>\n",
       "      <td>001-546-857-6518x5359</td>\n",
       "      <td>withdrawal</td>\n",
       "      <td>358.80</td>\n",
       "      <td>2020-06-13</td>\n",
       "      <td>Credit</td>\n",
       "      <td>2881.24</td>\n",
       "      <td>2019-05-06</td>\n",
       "      <td>32428.90</td>\n",
       "      <td>Mortgage</td>\n",
       "      <td>2021-06-24</td>\n",
       "      <td>2050-01-08 04:59:17.907588</td>\n",
       "      <td>2.12</td>\n",
       "    </tr>\n",
       "    <tr>\n",
       "      <th>2</th>\n",
       "      <td>Geoffrey Banks</td>\n",
       "      <td>gonzalesgeorge@example.net</td>\n",
       "      <td>001-546-857-6518x5359</td>\n",
       "      <td>withdrawal</td>\n",
       "      <td>358.80</td>\n",
       "      <td>2020-06-13</td>\n",
       "      <td>Credit</td>\n",
       "      <td>2881.24</td>\n",
       "      <td>2019-05-06</td>\n",
       "      <td>31406.77</td>\n",
       "      <td>Personal</td>\n",
       "      <td>2021-02-27</td>\n",
       "      <td>2038-10-12 04:59:17.907821</td>\n",
       "      <td>4.63</td>\n",
       "    </tr>\n",
       "    <tr>\n",
       "      <th>3</th>\n",
       "      <td>Geoffrey Banks</td>\n",
       "      <td>gonzalesgeorge@example.net</td>\n",
       "      <td>001-546-857-6518x5359</td>\n",
       "      <td>withdrawal</td>\n",
       "      <td>358.80</td>\n",
       "      <td>2020-06-13</td>\n",
       "      <td>Credit</td>\n",
       "      <td>2881.24</td>\n",
       "      <td>2019-05-06</td>\n",
       "      <td>27834.00</td>\n",
       "      <td>Personal</td>\n",
       "      <td>2019-12-05</td>\n",
       "      <td>2037-08-15 04:59:17.909497</td>\n",
       "      <td>2.15</td>\n",
       "    </tr>\n",
       "    <tr>\n",
       "      <th>4</th>\n",
       "      <td>Geoffrey Banks</td>\n",
       "      <td>gonzalesgeorge@example.net</td>\n",
       "      <td>001-546-857-6518x5359</td>\n",
       "      <td>withdrawal</td>\n",
       "      <td>358.80</td>\n",
       "      <td>2020-06-13</td>\n",
       "      <td>Credit</td>\n",
       "      <td>2881.24</td>\n",
       "      <td>2019-05-06</td>\n",
       "      <td>27873.08</td>\n",
       "      <td>Auto</td>\n",
       "      <td>2022-01-19</td>\n",
       "      <td>2037-06-03 04:59:17.913974</td>\n",
       "      <td>7.03</td>\n",
       "    </tr>\n",
       "  </tbody>\n",
       "</table>\n",
       "</div>"
      ],
      "text/plain": [
       "         FullName                       Email                  Phone  \\\n",
       "0    Carol Miller         yfisher@example.org             6088279027   \n",
       "1  Geoffrey Banks  gonzalesgeorge@example.net  001-546-857-6518x5359   \n",
       "2  Geoffrey Banks  gonzalesgeorge@example.net  001-546-857-6518x5359   \n",
       "3  Geoffrey Banks  gonzalesgeorge@example.net  001-546-857-6518x5359   \n",
       "4  Geoffrey Banks  gonzalesgeorge@example.net  001-546-857-6518x5359   \n",
       "\n",
       "  TransactionType  Amount TransactionDate AccountType  Balance OpeningDate  \\\n",
       "0      withdrawal  102.15      2023-04-26     Savings  5652.16  2019-08-12   \n",
       "1      withdrawal  358.80      2020-06-13      Credit  2881.24  2019-05-06   \n",
       "2      withdrawal  358.80      2020-06-13      Credit  2881.24  2019-05-06   \n",
       "3      withdrawal  358.80      2020-06-13      Credit  2881.24  2019-05-06   \n",
       "4      withdrawal  358.80      2020-06-13      Credit  2881.24  2019-05-06   \n",
       "\n",
       "   LoanAmount  LoanType   StartDate                     EndDate  InterestRate  \n",
       "0         NaN       NaN         NaN                         NaN           NaN  \n",
       "1    32428.90  Mortgage  2021-06-24  2050-01-08 04:59:17.907588          2.12  \n",
       "2    31406.77  Personal  2021-02-27  2038-10-12 04:59:17.907821          4.63  \n",
       "3    27834.00  Personal  2019-12-05  2037-08-15 04:59:17.909497          2.15  \n",
       "4    27873.08      Auto  2022-01-19  2037-06-03 04:59:17.913974          7.03  "
      ]
     },
     "metadata": {},
     "output_type": "display_data"
    }
   ],
   "source": [
    "# displaying dataset info\n",
    "display(zulo_bank.head())"
   ]
  },
  {
   "cell_type": "code",
   "execution_count": 49,
   "metadata": {},
   "outputs": [
    {
     "name": "stdout",
     "output_type": "stream",
     "text": [
      "<class 'pandas.core.frame.DataFrame'>\n",
      "RangeIndex: 1554 entries, 0 to 1553\n",
      "Data columns (total 14 columns):\n",
      " #   Column           Non-Null Count  Dtype  \n",
      "---  ------           --------------  -----  \n",
      " 0   FullName         1554 non-null   object \n",
      " 1   Email            1554 non-null   object \n",
      " 2   Phone            1554 non-null   object \n",
      " 3   TransactionType  1554 non-null   object \n",
      " 4   Amount           1554 non-null   float64\n",
      " 5   TransactionDate  1554 non-null   object \n",
      " 6   AccountType      1554 non-null   object \n",
      " 7   Balance          1554 non-null   float64\n",
      " 8   OpeningDate      1554 non-null   object \n",
      " 9   LoanAmount       1278 non-null   float64\n",
      " 10  LoanType         1278 non-null   object \n",
      " 11  StartDate        1278 non-null   object \n",
      " 12  EndDate          1278 non-null   object \n",
      " 13  InterestRate     1278 non-null   float64\n",
      "dtypes: float64(4), object(10)\n",
      "memory usage: 170.1+ KB\n"
     ]
    }
   ],
   "source": [
    "# Check data info\n",
    "zulo_bank.info()"
   ]
  },
  {
   "cell_type": "code",
   "execution_count": 50,
   "metadata": {},
   "outputs": [],
   "source": [
    "# fill up missing values with appropriate parameters\n",
    "zulo_bank.fillna({\n",
    "    'LoanAmount': 0.0,\n",
    "    'LoanType': 'Unknown',\n",
    "    'InterestRate': 0.0, \n",
    "},inplace = True)"
   ]
  },
  {
   "cell_type": "code",
   "execution_count": 51,
   "metadata": {},
   "outputs": [
    {
     "name": "stdout",
     "output_type": "stream",
     "text": [
      "<class 'pandas.core.frame.DataFrame'>\n",
      "RangeIndex: 1554 entries, 0 to 1553\n",
      "Data columns (total 14 columns):\n",
      " #   Column           Non-Null Count  Dtype  \n",
      "---  ------           --------------  -----  \n",
      " 0   FullName         1554 non-null   object \n",
      " 1   Email            1554 non-null   object \n",
      " 2   Phone            1554 non-null   object \n",
      " 3   TransactionType  1554 non-null   object \n",
      " 4   Amount           1554 non-null   float64\n",
      " 5   TransactionDate  1554 non-null   object \n",
      " 6   AccountType      1554 non-null   object \n",
      " 7   Balance          1554 non-null   float64\n",
      " 8   OpeningDate      1554 non-null   object \n",
      " 9   LoanAmount       1554 non-null   float64\n",
      " 10  LoanType         1554 non-null   object \n",
      " 11  StartDate        1278 non-null   object \n",
      " 12  EndDate          1278 non-null   object \n",
      " 13  InterestRate     1554 non-null   float64\n",
      "dtypes: float64(4), object(10)\n",
      "memory usage: 170.1+ KB\n"
     ]
    }
   ],
   "source": [
    "zulo_bank.info()"
   ]
  },
  {
   "cell_type": "code",
   "execution_count": 52,
   "metadata": {},
   "outputs": [
    {
     "data": {
      "text/html": [
       "<div>\n",
       "<style scoped>\n",
       "    .dataframe tbody tr th:only-of-type {\n",
       "        vertical-align: middle;\n",
       "    }\n",
       "\n",
       "    .dataframe tbody tr th {\n",
       "        vertical-align: top;\n",
       "    }\n",
       "\n",
       "    .dataframe thead th {\n",
       "        text-align: right;\n",
       "    }\n",
       "</style>\n",
       "<table border=\"1\" class=\"dataframe\">\n",
       "  <thead>\n",
       "    <tr style=\"text-align: right;\">\n",
       "      <th></th>\n",
       "      <th>FullName</th>\n",
       "      <th>Email</th>\n",
       "      <th>Phone</th>\n",
       "      <th>TransactionType</th>\n",
       "      <th>Amount</th>\n",
       "      <th>TransactionDate</th>\n",
       "      <th>AccountType</th>\n",
       "      <th>Balance</th>\n",
       "      <th>OpeningDate</th>\n",
       "      <th>LoanAmount</th>\n",
       "      <th>LoanType</th>\n",
       "      <th>StartDate</th>\n",
       "      <th>EndDate</th>\n",
       "      <th>InterestRate</th>\n",
       "      <th>First_Name</th>\n",
       "      <th>Last_Name</th>\n",
       "    </tr>\n",
       "  </thead>\n",
       "  <tbody>\n",
       "    <tr>\n",
       "      <th>0</th>\n",
       "      <td>Carol Miller</td>\n",
       "      <td>yfisher@example.org</td>\n",
       "      <td>6088279027</td>\n",
       "      <td>withdrawal</td>\n",
       "      <td>102.15</td>\n",
       "      <td>2023-04-26</td>\n",
       "      <td>Savings</td>\n",
       "      <td>5652.16</td>\n",
       "      <td>2019-08-12</td>\n",
       "      <td>0.00</td>\n",
       "      <td>Unknown</td>\n",
       "      <td>NaN</td>\n",
       "      <td>NaN</td>\n",
       "      <td>0.00</td>\n",
       "      <td>Carol</td>\n",
       "      <td>Miller</td>\n",
       "    </tr>\n",
       "    <tr>\n",
       "      <th>1</th>\n",
       "      <td>Geoffrey Banks</td>\n",
       "      <td>gonzalesgeorge@example.net</td>\n",
       "      <td>001-546-857-6518x5359</td>\n",
       "      <td>withdrawal</td>\n",
       "      <td>358.80</td>\n",
       "      <td>2020-06-13</td>\n",
       "      <td>Credit</td>\n",
       "      <td>2881.24</td>\n",
       "      <td>2019-05-06</td>\n",
       "      <td>32428.90</td>\n",
       "      <td>Mortgage</td>\n",
       "      <td>2021-06-24</td>\n",
       "      <td>2050-01-08 04:59:17.907588</td>\n",
       "      <td>2.12</td>\n",
       "      <td>Geoffrey</td>\n",
       "      <td>Banks</td>\n",
       "    </tr>\n",
       "    <tr>\n",
       "      <th>2</th>\n",
       "      <td>Geoffrey Banks</td>\n",
       "      <td>gonzalesgeorge@example.net</td>\n",
       "      <td>001-546-857-6518x5359</td>\n",
       "      <td>withdrawal</td>\n",
       "      <td>358.80</td>\n",
       "      <td>2020-06-13</td>\n",
       "      <td>Credit</td>\n",
       "      <td>2881.24</td>\n",
       "      <td>2019-05-06</td>\n",
       "      <td>31406.77</td>\n",
       "      <td>Personal</td>\n",
       "      <td>2021-02-27</td>\n",
       "      <td>2038-10-12 04:59:17.907821</td>\n",
       "      <td>4.63</td>\n",
       "      <td>Geoffrey</td>\n",
       "      <td>Banks</td>\n",
       "    </tr>\n",
       "    <tr>\n",
       "      <th>3</th>\n",
       "      <td>Geoffrey Banks</td>\n",
       "      <td>gonzalesgeorge@example.net</td>\n",
       "      <td>001-546-857-6518x5359</td>\n",
       "      <td>withdrawal</td>\n",
       "      <td>358.80</td>\n",
       "      <td>2020-06-13</td>\n",
       "      <td>Credit</td>\n",
       "      <td>2881.24</td>\n",
       "      <td>2019-05-06</td>\n",
       "      <td>27834.00</td>\n",
       "      <td>Personal</td>\n",
       "      <td>2019-12-05</td>\n",
       "      <td>2037-08-15 04:59:17.909497</td>\n",
       "      <td>2.15</td>\n",
       "      <td>Geoffrey</td>\n",
       "      <td>Banks</td>\n",
       "    </tr>\n",
       "    <tr>\n",
       "      <th>4</th>\n",
       "      <td>Geoffrey Banks</td>\n",
       "      <td>gonzalesgeorge@example.net</td>\n",
       "      <td>001-546-857-6518x5359</td>\n",
       "      <td>withdrawal</td>\n",
       "      <td>358.80</td>\n",
       "      <td>2020-06-13</td>\n",
       "      <td>Credit</td>\n",
       "      <td>2881.24</td>\n",
       "      <td>2019-05-06</td>\n",
       "      <td>27873.08</td>\n",
       "      <td>Auto</td>\n",
       "      <td>2022-01-19</td>\n",
       "      <td>2037-06-03 04:59:17.913974</td>\n",
       "      <td>7.03</td>\n",
       "      <td>Geoffrey</td>\n",
       "      <td>Banks</td>\n",
       "    </tr>\n",
       "  </tbody>\n",
       "</table>\n",
       "</div>"
      ],
      "text/plain": [
       "         FullName                       Email                  Phone  \\\n",
       "0    Carol Miller         yfisher@example.org             6088279027   \n",
       "1  Geoffrey Banks  gonzalesgeorge@example.net  001-546-857-6518x5359   \n",
       "2  Geoffrey Banks  gonzalesgeorge@example.net  001-546-857-6518x5359   \n",
       "3  Geoffrey Banks  gonzalesgeorge@example.net  001-546-857-6518x5359   \n",
       "4  Geoffrey Banks  gonzalesgeorge@example.net  001-546-857-6518x5359   \n",
       "\n",
       "  TransactionType  Amount TransactionDate AccountType  Balance OpeningDate  \\\n",
       "0      withdrawal  102.15      2023-04-26     Savings  5652.16  2019-08-12   \n",
       "1      withdrawal  358.80      2020-06-13      Credit  2881.24  2019-05-06   \n",
       "2      withdrawal  358.80      2020-06-13      Credit  2881.24  2019-05-06   \n",
       "3      withdrawal  358.80      2020-06-13      Credit  2881.24  2019-05-06   \n",
       "4      withdrawal  358.80      2020-06-13      Credit  2881.24  2019-05-06   \n",
       "\n",
       "   LoanAmount  LoanType   StartDate                     EndDate  InterestRate  \\\n",
       "0        0.00   Unknown         NaN                         NaN          0.00   \n",
       "1    32428.90  Mortgage  2021-06-24  2050-01-08 04:59:17.907588          2.12   \n",
       "2    31406.77  Personal  2021-02-27  2038-10-12 04:59:17.907821          4.63   \n",
       "3    27834.00  Personal  2019-12-05  2037-08-15 04:59:17.909497          2.15   \n",
       "4    27873.08      Auto  2022-01-19  2037-06-03 04:59:17.913974          7.03   \n",
       "\n",
       "  First_Name Last_Name  \n",
       "0      Carol    Miller  \n",
       "1   Geoffrey     Banks  \n",
       "2   Geoffrey     Banks  \n",
       "3   Geoffrey     Banks  \n",
       "4   Geoffrey     Banks  "
      ]
     },
     "metadata": {},
     "output_type": "display_data"
    }
   ],
   "source": [
    "# convert to 1NF\n",
    "# splitting fullname into two parts , First_Name and Last_Name\n",
    "zulo_bank[['First_Name', 'Last_Name']] = zulo_bank['FullName'].str.split(expand = True)\n",
    "\n",
    "display(zulo_bank.head())"
   ]
  },
  {
   "cell_type": "code",
   "execution_count": 53,
   "metadata": {},
   "outputs": [],
   "source": [
    "# converting 1NF to 2NF\n",
    "# Customer table\n",
    "Customer = zulo_bank[['First_Name', 'Last_Name', 'Email', 'Phone']].copy().drop_duplicates().reset_index(drop = True)\n",
    "Customer['Customer_ID'] = range(1, len(Customer) + 1)\n",
    "Customer = Customer[['Customer_ID', 'First_Name', 'Last_Name', 'Email', 'Phone']]"
   ]
  },
  {
   "cell_type": "code",
   "execution_count": 54,
   "metadata": {},
   "outputs": [],
   "source": [
    "# converting 1NF to 2NF\n",
    "# Account table\n",
    "Account = zulo_bank[['AccountType', 'Balance', 'OpeningDate']].copy().drop_duplicates().reset_index(drop = True)\n",
    "Account['Account_ID'] = range(1, len(Account) + 1)\n",
    "Account = Account[['Account_ID', 'AccountType', 'Balance', 'OpeningDate']]"
   ]
  },
  {
   "cell_type": "code",
   "execution_count": 55,
   "metadata": {},
   "outputs": [],
   "source": [
    "# converting 1NF to 2NF\n",
    "# Transaction table\n",
    "Transaction = zulo_bank[['TransactionType', 'Amount', 'TransactionDate']].copy().drop_duplicates().reset_index(drop = True)\n",
    "Transaction['Transaction_ID'] = range(1, len(Transaction) + 1)\n",
    "Transaction = Transaction[['Transaction_ID', 'TransactionType', 'Amount', 'TransactionDate']]"
   ]
  },
  {
   "cell_type": "code",
   "execution_count": 56,
   "metadata": {},
   "outputs": [],
   "source": [
    "# converting 1NF to 2NF\n",
    "# Loan table\n",
    "Loan = zulo_bank[['LoanType', 'LoanAmount', 'StartDate', 'EndDate', 'InterestRate']].copy().drop_duplicates().reset_index(drop = True)\n",
    "Loan['Loan_ID'] = range(1, len(Loan) + 1)\n",
    "Loan = Loan[['Loan_ID', 'LoanType', 'LoanAmount', 'StartDate', 'EndDate', 'InterestRate']]"
   ]
  },
  {
   "cell_type": "code",
   "execution_count": 57,
   "metadata": {},
   "outputs": [],
   "source": [
    "# Merge Operation to create zulo Bank\n",
    "zulo_bank = zulo_bank.merge(Customer, on =['First_Name', 'Last_Name', 'Email', 'Phone'], how = 'left') \\\n",
    "                     .merge(Account, on =['AccountType', 'Balance', 'OpeningDate'], how = 'left') \\\n",
    "                     .merge(Transaction, on =['TransactionType', 'Amount', 'TransactionDate'],how = 'left') \\\n",
    "                     .merge(Loan, on =['LoanType', 'LoanAmount', 'StartDate', 'EndDate', 'InterestRate'], how = 'left') \\\n",
    "                     [['Customer_ID', 'Account_ID', 'Transaction_ID', 'Loan_ID']]\n"
   ]
  },
  {
   "cell_type": "code",
   "execution_count": 58,
   "metadata": {},
   "outputs": [],
   "source": [
    "# To convert from 2NF to 3NF\n",
    "# create the date dimension table\n",
    "# Define the Start and End dates\n",
    "Start_Date = datetime(2020,1,1)\n",
    "current_date = datetime(2090,12,31)\n",
    "\n",
    "# To calculate the number between start and end date\n",
    "num_days = (current_date - Start_Date).days\n",
    "\n",
    "# To generate a list of dates from start date to current date\n",
    "date_list = [Start_Date + timedelta(days = x) for x in range(num_days + 1)]\n",
    "\n",
    "# To ensure date_ID matches the number of days or length of the date list\n",
    "date = {'date_ID': [x for x in range(1, len(date_list) + 1)], 'date': date_list}\n",
    "\n",
    "# create date dataframe\n",
    "date_dim = pd.DataFrame(date)\n",
    "date_dim['Year'] = date_dim['date'].dt.year\n",
    "date_dim['Month'] = date_dim['date'].dt.month\n",
    "date_dim['Day'] = date_dim['date'].dt.day\n",
    "date_dim['date'] = pd.to_datetime(date_dim['date']).dt.date"
   ]
  },
  {
   "cell_type": "code",
   "execution_count": 59,
   "metadata": {},
   "outputs": [],
   "source": [
    "# Account table 2NF to 3NF\n",
    "# to avoid viewing the openingdate as a shrink convert the openingdate to date datatype\n",
    "Account['OpeningDate'] = pd.to_datetime(Account['OpeningDate']).dt.date\n",
    "Account = Account.merge(date_dim, left_on= 'OpeningDate', right_on = 'date', how = 'inner' ) \\\n",
    "                 .rename(columns={'date_ID':'OpeningDate_ID'}) \\\n",
    "                 .reset_index(drop = True) \\\n",
    "                 [['Account_ID', 'AccountType', 'Balance', 'OpeningDate_ID']]"
   ]
  },
  {
   "cell_type": "code",
   "execution_count": 60,
   "metadata": {},
   "outputs": [],
   "source": [
    "# Transaction table from 2NF TO 3NF\n",
    "Transaction['TransactionDate'] = pd.to_datetime(Transaction['TransactionDate']).dt.date\n",
    "Transaction = Transaction.merge(date_dim, left_on= 'TransactionDate', right_on = 'date', how = 'inner' ) \\\n",
    "                 .rename(columns={'date_ID':'TransactionDate_ID'}) \\\n",
    "                 .reset_index(drop = True) \\\n",
    "                 [['Transaction_ID', 'TransactionType', 'Amount', 'TransactionDate_ID']]"
   ]
  },
  {
   "cell_type": "code",
   "execution_count": 61,
   "metadata": {},
   "outputs": [],
   "source": [
    "# Loan table from 2NF TO 3NF\n",
    "Loan['StartDate'] = pd.to_datetime(Loan['StartDate']).dt.date\n",
    "Loan['EndDate'] = pd.to_datetime(Loan['EndDate']).dt.date\n",
    "Loan = Loan.merge(date_dim, left_on= 'StartDate', right_on = 'date', how = 'inner' ) \\\n",
    "                 .rename(columns={'date_ID':'StartDate_ID'}) \\\n",
    "                 .merge(date_dim, left_on= 'StartDate', right_on = 'date', how = 'inner', suffixes=(\"\",'_end') ) \\\n",
    "                 .rename(columns={'date_ID':'EndDate_ID'}) \\\n",
    "                 .reset_index(drop = True) \\\n",
    "                 [['Loan_ID', 'LoanType', 'LoanAmount', 'StartDate_ID', 'EndDate_ID', 'InterestRate']]"
   ]
  },
  {
   "cell_type": "code",
   "execution_count": 62,
   "metadata": {},
   "outputs": [],
   "source": [
    "# save to our directory\n",
    "Transaction.to_csv(r'datasetmodel\\Transaction.csv', index = False)\n",
    "Customer.to_csv(r'datasetmodel\\Customer.csv', index = False)\n",
    "Account.to_csv(r'datasetmodel\\Account.csv', index = False)\n",
    "Loan.to_csv(r'datasetmodel\\Loan.csv', index = False)\n",
    "date_dim.to_csv(r'datasetmodel\\date_dim.csv', index = False)\n",
    "zulo_bank.to_csv(r'datasetmodel\\zulo_bank.csv', index = False)"
   ]
  },
  {
   "cell_type": "code",
   "execution_count": 63,
   "metadata": {},
   "outputs": [],
   "source": [
    "## Transaction DataWareHouse Schema\n",
    "Transaction_dim = Transaction[['Transaction_ID','TransactionType']].copy().drop_duplicates().reset_index(drop = True)\n",
    "Account_dim = Account[['Account_ID', 'AccountType', 'Balance']].copy().drop_duplicates().reset_index(drop = True)\n",
    "\n",
    "Transaction_fact_table = zulo_bank.merge(Transaction, on= 'Transaction_ID', how= 'inner') \\\n",
    "                                  .merge(Account, on= 'Account_ID', how= 'inner') \\\n",
    "                                  [['Transaction_ID', 'Account_ID', 'OpeningDate_ID','TransactionDate_ID', 'Amount']]"
   ]
  },
  {
   "cell_type": "code",
   "execution_count": 64,
   "metadata": {},
   "outputs": [],
   "source": [
    "# SAVE MEMORY\n",
    "# Transaction datawarehouse schema(DWH)\n",
    "Transaction_dim.to_csv(r'datasetmodel\\Transaction_DWH Schema\\Transaction_dim.to_csv', index = False)\n",
    "Account_dim.to_csv(r'datasetmodel\\Transaction_DWH Schema\\Account_dim.to_csv', index = False)\n",
    "Transaction_fact_table.to_csv(r'datasetmodel\\Transaction_DWH Schema\\Transaction_fact_table.to_csv', index = False)"
   ]
  },
  {
   "cell_type": "code",
   "execution_count": 65,
   "metadata": {},
   "outputs": [],
   "source": [
    "## Loan DataWareHouse Schema\n",
    "Customer_dim = Customer.copy()\n",
    "Loan_dim = Loan[['Loan_ID', 'LoanType']].copy().drop_duplicates().reset_index(drop = True)\n",
    "Loan_fact_table = zulo_bank.merge(Customer, on= 'Customer_ID', how= 'inner') \\\n",
    "                                  .merge(Loan, on= 'Loan_ID', how= 'inner') \\\n",
    "                                  [['Loan_ID', 'Customer_ID', 'StartDate_ID','EndDate_ID', 'LoanAmount', 'InterestRate']]"
   ]
  },
  {
   "cell_type": "code",
   "execution_count": 66,
   "metadata": {},
   "outputs": [],
   "source": [
    "# SAVE MEMORY\n",
    "#Loan datawarehouse schema(DWH)\n",
    "Customer_dim.to_csv(r'datasetmodel\\Loan_DWH Schema\\Customer_dim.to_csv', index = False)\n",
    "Loan_dim.to_csv(r'datasetmodel\\Loan_DWH Schema\\Loan_dim', index = False)\n",
    "Loan_fact_table.to_csv(r'datasetmodel\\Loan_DWH Schema\\Loan_fact_table.to_csv', index = False)"
   ]
  },
  {
   "cell_type": "markdown",
   "metadata": {},
   "source": [
    "Loading into the RDBMS using psycopg2\n",
    "\n"
   ]
  },
  {
   "cell_type": "code",
   "execution_count": 67,
   "metadata": {},
   "outputs": [
    {
     "name": "stdout",
     "output_type": "stream",
     "text": [
      "Requirement already satisfied: psycopg2 in c:\\users\\back2\\appdata\\local\\anaconda3\\lib\\site-packages (2.9.9)\n"
     ]
    }
   ],
   "source": [
    "!pip install psycopg2"
   ]
  },
  {
   "cell_type": "code",
   "execution_count": 68,
   "metadata": {},
   "outputs": [],
   "source": [
    "import psycopg2"
   ]
  },
  {
   "cell_type": "code",
   "execution_count": 69,
   "metadata": {},
   "outputs": [
    {
     "name": "stdout",
     "output_type": "stream",
     "text": [
      "database zulo_bank already exists\n"
     ]
    }
   ],
   "source": [
    "# Define database parameters including the database name\n",
    "db_params ={\n",
    "    'username': 'postgres',\n",
    "    'password': '0852',\n",
    "    'host': 'localhost',\n",
    "    'port': '5432',\n",
    "    'database': 'zulo_bank'\n",
    "}\n",
    "default_db_url = f\"postgresql://{db_params['username']}:{db_params['password']}@{db_params['host']}:{db_params['port']}/postgres\"\n",
    "# Attempt to create a database\n",
    "try:\n",
    "    # open the connection\n",
    "    conn = psycopg2.connect(default_db_url)\n",
    "    conn.autocommit = True\n",
    "    cur = conn.cursor()\n",
    "    # check if the database already exists\n",
    "    cur.execute(f\"SELECT 1 FROM pg_catalog.pg_database WHERE datname = '{db_params['database']}'\")\n",
    "    exists = cur.fetchone()\n",
    "    if not exists:\n",
    "        # create the database\n",
    "        cur.execute(f\"CREATE DATABASE {db_params['database']}\")\n",
    "        print(f\"database {db_params['database']} created succesfully\")\n",
    "    else:\n",
    "        print(f\"database {db_params['database']} already exists\")\n",
    "        # close the connection\n",
    "        cur.close()\n",
    "        conn.close()\n",
    "except Exception as e:\n",
    "    print(f\"an error occured: {e}\")\n"
   ]
  },
  {
   "cell_type": "code",
   "execution_count": 70,
   "metadata": {},
   "outputs": [],
   "source": [
    "# Connect to the newly or existing  created database to create schema and tables\n",
    "def get_db_connection():\n",
    "    connection = psycopg2.connect(\n",
    "        host = 'localhost',\n",
    "        database = 'zulo_bank',\n",
    "        user = 'postgres',\n",
    "        password = '0852'\n",
    "    )\n",
    "    return connection\n",
    "conn = get_db_connection()"
   ]
  },
  {
   "cell_type": "code",
   "execution_count": 71,
   "metadata": {},
   "outputs": [],
   "source": [
    "# 1st step Create schema and Tables\n",
    "# 2nd step  write queries for the created table \n",
    "# 3rd step we start with the date_dim table because it's the primary key that links \n",
    "# to transaction,account and loan table.\n",
    "# to be sure of the data type and to know the columns in the table use (date_dim.info() to view )\n",
    "# NB TransactionDate_ID is FOREIGN KEY because it relates to DATE_ID Which is a PRIMARY KEY \n",
    "def create_tables():\n",
    "    conn = get_db_connection()\n",
    "    cursor = conn.cursor()\n",
    "    create_table_query = '''\n",
    "                            CREATE SCHEMA IF NOT EXISTS zulobankdb;\n",
    "\n",
    "                            DROP TABLE IF EXISTS zulobankdb.Transaction CASCADE;\n",
    "                            DROP TABLE IF EXISTS zulobankdb.Account CASCADE;\n",
    "                            DROP TABLE IF EXISTS zulobankdb.Customer CASCADE;\n",
    "                            DROP TABLE IF EXISTS zulobankdb.date_dim CASCADE;\n",
    "                            DROP TABLE IF EXISTS zulobankdb.Loan CASCADE;\n",
    "                            DROP TABLE IF EXISTS zulobankdb.zulo_fact_table CASCADE;\n",
    "                            \n",
    "                            CREATE TABLE IF NOT EXISTS zulobankdb.date_dim (\n",
    "                               date_id SERIAL PRIMARY KEY,\n",
    "                               date VARCHAR(1000),\n",
    "                               Year INTEGER,\n",
    "                               Month INTEGER,\n",
    "                               Day INTEGER\n",
    "                            );\n",
    "                              \n",
    "                            CREATE TABLE IF NOT EXISTS zulobankdb.Transaction (\n",
    "                               Transaction_ID  SERIAL PRIMARY KEY,\n",
    "                               TransactionType VARCHAR (1000),\n",
    "                               Amount FLOAT,\n",
    "                               TransactionDate_ID INTEGER,\n",
    "                               FOREIGN KEY(TransactionDate_ID) REFERENCES zulobankdb.date_dim(Date_ID)\n",
    "                            );\n",
    "\n",
    "                            CREATE TABLE IF NOT EXISTS zulobankdb.Account (\n",
    "                               Account_ID  SERIAL PRIMARY KEY,\n",
    "                               AccountType VARCHAR (1000),\n",
    "                               Balance FLOAT,\n",
    "                               OpeningDate_ID INTEGER,\n",
    "                               FOREIGN KEY(OpeningDate_ID) REFERENCES zulobankdb.date_dim(Date_ID)\n",
    "                            );\n",
    "\n",
    "                            CREATE TABLE IF NOT EXISTS zulobankdb.Loan (\n",
    "                               Loan_ID  SERIAL PRIMARY KEY,\n",
    "                               LoanType VARCHAR (1000),\n",
    "                               LoanAmount FLOAT,\n",
    "                               StartDate_ID INTEGER,\n",
    "                               EndDate_ID INTEGER,\n",
    "                               InterestRate FLOAT,\n",
    "                               FOREIGN KEY(StartDate_ID) REFERENCES zulobankdb.date_dim(Date_ID),\n",
    "                               FOREIGN KEY(EndDate_ID) REFERENCES zulobankdb.date_dim(Date_ID)\n",
    "                            );\n",
    "\n",
    "                            CREATE TABLE IF NOT EXISTS zulobankdb.Customer (\n",
    "                               Customer_ID  SERIAL PRIMARY KEY,\n",
    "                               First_Name VARCHAR (1000),\n",
    "                               Last_Name VARCHAR,\n",
    "                               Email VARCHAR,\n",
    "                               Phone VARCHAR\n",
    "                            );\n",
    "\n",
    "                            CREATE TABLE IF NOT EXISTS zulobankdb.zulo_fact_table (\n",
    "                               Customer_ID INTEGER,\n",
    "                               Account_ID  INTEGER,\n",
    "                               Transaction_ID INTEGER,\n",
    "                               Loan_ID INTEGER,\n",
    "                               FOREIGN KEY(Customer_ID) REFERENCES zulobankdb.Customer(Customer_ID),\n",
    "                               FOREIGN KEY(Account_ID) REFERENCES zulobankdb.Account(Account_ID),\n",
    "                               FOREIGN KEY(Transaction_ID) REFERENCES zulobankdb.Transaction(Transaction_ID),\n",
    "                               FOREIGN KEY(Loan_ID) REFERENCES zulobankdb.Loan(Loan_ID)\n",
    "                            );'''\n",
    "    cursor.execute(create_table_query)\n",
    "    conn.commit()\n",
    "    cursor.close()\n",
    "    conn.close()"
   ]
  },
  {
   "cell_type": "code",
   "execution_count": 72,
   "metadata": {},
   "outputs": [],
   "source": [
    "create_tables()"
   ]
  },
  {
   "cell_type": "code",
   "execution_count": 73,
   "metadata": {},
   "outputs": [
    {
     "name": "stdout",
     "output_type": "stream",
     "text": [
      "date_dim data loaded succesfully\n"
     ]
    }
   ],
   "source": [
    "## HOW TO LOAD DATA INTO THE CREATED TABLE \n",
    "# date_dim Table\n",
    "import csv\n",
    "def load_data_from_csv(csv_path):\n",
    "    conn = get_db_connection()\n",
    "    cursor = conn.cursor()\n",
    "    with open(csv_path, 'r') as file:\n",
    "        reader = csv.reader(file)\n",
    "        next(reader)\n",
    "        for row in reader:\n",
    "            cursor.execute(\n",
    "                '''INSERT INTO zulobankdb.date_dim (date_ID, date, Year, Month, Day)\n",
    "                   VALUES (%s, %s, %s, %s, %s);''',\n",
    "                   row\n",
    "                )\n",
    "    conn.commit()\n",
    "    cursor.close()\n",
    "    conn.close()\n",
    "\n",
    "# Now provide the csv path to the file\n",
    "csv_file_path = r'datasetmodel\\date_dim.csv'\n",
    "\n",
    "load_data_from_csv(csv_file_path)\n",
    "print('date_dim data loaded succesfully')\n",
    "\n"
   ]
  },
  {
   "cell_type": "code",
   "execution_count": 84,
   "metadata": {},
   "outputs": [
    {
     "name": "stdout",
     "output_type": "stream",
     "text": [
      "zulo_fact_table loaded succesfully\n"
     ]
    }
   ],
   "source": [
    "import csv\n",
    "def load_data_from_csv(csv_path):\n",
    "    conn = get_db_connection()\n",
    "    cursor = conn.cursor()\n",
    "    with open(csv_path, 'r') as file:\n",
    "        reader = csv.reader(file)\n",
    "        next(reader)\n",
    "        for row in reader:\n",
    "            try:\n",
    "               cursor.execute(\n",
    "                '''INSERT INTO zulobankdb.zulo_fact_table (Customer_ID, Account_ID,Transaction_ID, Loan_ID)\n",
    "                   VALUES (%s, %s, %s,%s);''',\n",
    "                   row\n",
    "                )\n",
    "            except psycopg2.IntegrityError: # this will help catch or sovlve foreign key error/violation\n",
    "                conn.rollback() # this will keep the code running even when there is an Erroe or\n",
    "                                # rollback the current trnasaction so you can continue\n",
    "            else:    \n",
    "                conn.commit() # commit if the rows are inserted succesfully\n",
    "    cursor.close()\n",
    "    conn.close()\n",
    "\n",
    "# Now provide the csv path to the file\n",
    "csv_file_path = r'datasetmodel\\zulo_bank.csv'\n",
    "\n",
    "load_data_from_csv(csv_file_path)\n",
    "print('zulo_fact_table loaded succesfully')\n"
   ]
  },
  {
   "cell_type": "code",
   "execution_count": 82,
   "metadata": {},
   "outputs": [
    {
     "data": {
      "text/plain": [
       "Index(['Customer_ID', 'Account_ID', 'Transaction_ID', 'Loan_ID'], dtype='object')"
      ]
     },
     "execution_count": 82,
     "metadata": {},
     "output_type": "execute_result"
    }
   ],
   "source": [
    "zulo_bank.columns"
   ]
  }
 ],
 "metadata": {
  "kernelspec": {
   "display_name": "base",
   "language": "python",
   "name": "python3"
  },
  "language_info": {
   "codemirror_mode": {
    "name": "ipython",
    "version": 3
   },
   "file_extension": ".py",
   "mimetype": "text/x-python",
   "name": "python",
   "nbconvert_exporter": "python",
   "pygments_lexer": "ipython3",
   "version": "3.11.7"
  }
 },
 "nbformat": 4,
 "nbformat_minor": 2
}
