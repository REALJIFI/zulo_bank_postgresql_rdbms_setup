{
 "cells": [
  {
   "cell_type": "code",
   "execution_count": 19,
   "id": "14212b3f-5b75-4ce8-a76c-faa3226d1129",
   "metadata": {},
   "outputs": [],
   "source": [
    "import sqlite3\n",
    "from sqlalchemy import create_engine\n",
    "import pandas as pd"
   ]
  },
  {
   "cell_type": "code",
   "execution_count": 27,
   "id": "e286b635-b73b-4d0b-bd1f-9c0703c4306c",
   "metadata": {},
   "outputs": [
    {
     "data": {
      "text/plain": [
       "<sqlite3.Cursor at 0x243281b4fc0>"
      ]
     },
     "execution_count": 27,
     "metadata": {},
     "output_type": "execute_result"
    }
   ],
   "source": [
    "# next step, connect sqlite satabase (create database if it doesn't exist)\n",
    "# start up the environment with\n",
    "%reload_ext sql \n",
    "# if you run ur code and witness an error use reload_ext sql\n",
    "# to create the engine that will be used to create the database file \n",
    "\n",
    "engine = create_engine(\"sqlite:///bonga_ecommerce.db\")\n",
    "\n",
    "\n",
    "# to configurate the file \n",
    "\n",
    "%config SQL.conn_name = 'engine'\n",
    "\n",
    "# to connect to the database after creating\n",
    "\n",
    "conn = sqlite3.connect(\"bonga_ecommerce.db\")\n",
    "\n",
    "cursor = conn.cursor()\n",
    "\n",
    "%sql sqlite:///bonga_ecommerce.db\n",
    "\n",
    "# DATA DEFINITION LANGUAGE\n",
    "## Create table\n",
    "\n",
    "cursor.execute('''\n",
    "CREATE TABLE IF NOT EXISTS products(\n",
    "    Product_id INTEGER PRIMARY KEY,\n",
    "    name TEXT NOT NULL,\n",
    "    price DECIMAL NOT NULL,\n",
    "    category TEXT NOT NULL\n",
    "    \n",
    ")\n",
    "''')\n",
    "\n",
    "cursor.execute('''\n",
    "CREATE TABLE IF NOT EXISTS customers(\n",
    "    Customer_id INTEGER PRIMARY KEY,\n",
    "    name TEXT NOT NULL,\n",
    "    email TEXT UNIQUE NOT NULL\n",
    "       \n",
    ")\n",
    "''')\n",
    "\n",
    "cursor.execute('''\n",
    "CREATE TABLE IF NOT EXISTS orders(\n",
    "    order_id INTEGER PRIMARY KEY,\n",
    "    customer_id INTEGER NOT NULL,\n",
    "    order_date DATE NOT NULL,\n",
    "    FOREIGN KEY(customer_id) REFERENCES customers(customer_id)\n",
    "        \n",
    ")\n",
    "''')\n",
    "\n",
    "cursor.execute('''\n",
    "CREATE TABLE IF NOT EXISTS orders_Item(\n",
    "    order_Item_id INTEGER PRIMARY KEY,\n",
    "    Order_id INTEGER NOT NULL,\n",
    "    product_id INTEGER NOT NULL,\n",
    "    quantity INTEGER NOT NULL,\n",
    "    FOREIGN KEY(order_id) REFERENCES Orders(order_id),\n",
    "    FOREIGN KEY(product_id) REFERENCES Products(Product_id)\n",
    "    \n",
    ")\n",
    "''')"
   ]
  },
  {
   "cell_type": "code",
   "execution_count": 28,
   "id": "66eb7a30-ab1c-424a-a736-0d96137c7f30",
   "metadata": {},
   "outputs": [
    {
     "ename": "SyntaxError",
     "evalue": "invalid syntax (940023364.py, line 2)",
     "output_type": "error",
     "traceback": [
      "\u001b[1;36m  Cell \u001b[1;32mIn[28], line 2\u001b[1;36m\u001b[0m\n\u001b[1;33m    SELECT name\u001b[0m\n\u001b[1;37m           ^\u001b[0m\n\u001b[1;31mSyntaxError\u001b[0m\u001b[1;31m:\u001b[0m invalid syntax\n"
     ]
    }
   ],
   "source": [
    "# To view your tables to make sure they are correct use\n",
    "SELECT name \n",
    "FROM sqlite_master \n",
    "WHERE type IN ('table', 'view') \n",
    "AND name NOT LIKE 'sqlite_%' \n",
    "ORDER BY 1;"
   ]
  },
  {
   "cell_type": "code",
   "execution_count": 15,
   "id": "6254e339-cf85-4ea2-b7ac-08198d1defbe",
   "metadata": {},
   "outputs": [],
   "source": [
    "# To load data into the created tables use \n",
    "def load_data_to_tables(csv_path,table_name):\n",
    "    df = pd.read_csv(csv_path)\n",
    "    df.to_sql(table_name, conn, if_exists = 'append', index = false)"
   ]
  },
  {
   "cell_type": "code",
   "execution_count": 16,
   "id": "eeb83a08-b800-464d-a1be-cea1d3044b73",
   "metadata": {},
   "outputs": [],
   "source": [
    "# LOADING DATASET TO THE DATABASE TABLE\n",
    "load_data_to_tables = r'C:\\Users\\back2\\Desktop\\datasetwork\\BONGA CASE STUDY\\\\Products.csv'\n",
    "load_data_to_tables = r'C:\\Users\\back2\\Desktop\\datasetwork\\BONGA CASE STUDY\\\\Customers.csv'\n",
    "load_data_to_tables = r'C:\\Users\\back2\\Desktop\\datasetwork\\BONGA CASE STUDY\\\\Orders.csv'\n",
    "load_data_to_tables = r'C:\\Users\\back2\\Desktop\\datasetwork\\BONGA CASE STUDY\\\\Order_items.csv'"
   ]
  },
  {
   "cell_type": "code",
   "execution_count": 22,
   "id": "29a2bb8b-7f93-4e2f-aeb6-48d2d837c863",
   "metadata": {},
   "outputs": [
    {
     "ename": "SyntaxError",
     "evalue": "invalid syntax (180368700.py, line 6)",
     "output_type": "error",
     "traceback": [
      "\u001b[1;36m  Cell \u001b[1;32mIn[22], line 6\u001b[1;36m\u001b[0m\n\u001b[1;33m    INSERT INTO Products (name, price, category) VALUES ('clippers', 470, 'electronics');\u001b[0m\n\u001b[1;37m           ^\u001b[0m\n\u001b[1;31mSyntaxError\u001b[0m\u001b[1;31m:\u001b[0m invalid syntax\n"
     ]
    }
   ],
   "source": [
    "# DATA MANIPULATION LANGUAGE\n",
    "# INSERTING INTO EXISTING TABLE\n",
    "# EXAMPLE 1\n",
    "%%sql\n",
    "INSERT INTO Products (name, price, category) VALUES ('clippers', 470, 'electronics');\n"
   ]
  }
 ],
 "metadata": {
  "kernelspec": {
   "display_name": "Python 3 (ipykernel)",
   "language": "python",
   "name": "python3"
  },
  "language_info": {
   "codemirror_mode": {
    "name": "ipython",
    "version": 3
   },
   "file_extension": ".py",
   "mimetype": "text/x-python",
   "name": "python",
   "nbconvert_exporter": "python",
   "pygments_lexer": "ipython3",
   "version": "3.11.7"
  }
 },
 "nbformat": 4,
 "nbformat_minor": 5
}
